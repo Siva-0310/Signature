{
 "cells": [
  {
   "cell_type": "code",
   "execution_count": 92,
   "metadata": {},
   "outputs": [],
   "source": [
    "import torch\n",
    "import os\n",
    "import numpy as np\n",
    "import matplotlib.pyplot as plt\n",
    "from torch.utils.data import Dataset,DataLoader,Subset\n",
    "from torchvision import transforms\n",
    "from PIL import Image\n",
    "from typing import Tuple"
   ]
  },
  {
   "cell_type": "code",
   "execution_count": 93,
   "metadata": {},
   "outputs": [],
   "source": [
    "UnNormalize = transforms.Normalize(mean=[-0.485/0.229, -0.456/0.224, -0.406/0.225], std=[1/0.229, 1/0.224, 1/0.225])\n",
    "mean = [0.485, 0.456, 0.406]\n",
    "std = [0.229, 0.224, 0.225]\n",
    "Normalize = transforms.Normalize(mean=mean,std=std)"
   ]
  },
  {
   "cell_type": "code",
   "execution_count": 94,
   "metadata": {},
   "outputs": [],
   "source": [
    "class ImageMessageDataset(Dataset):\n",
    "    def __init__(self,img_dir:str,msg_length:int,transform:transforms.Compose = None) -> None:\n",
    "        super().__init__()\n",
    "\n",
    "        self.img_dir = img_dir\n",
    "        self.transform = transform\n",
    "        self.msg_length = msg_length\n",
    "        self.imgs = []\n",
    "        for f in os.listdir(img_dir):\n",
    "            if os.path.isfile(os.path.join(img_dir,f)):\n",
    "                self.imgs.append(f)\n",
    "        \n",
    "    def __len__(self):\n",
    "        return len(self.imgs)\n",
    "    \n",
    "    def __getitem__(self, index) -> Tuple[torch.Tensor,torch.Tensor]:\n",
    "        img_path = os.path.join(self.img_dir, self.imgs[index])\n",
    "        image = Image.open(img_path).convert('RGB')\n",
    "        image = image.resize((256, 256), Image.BICUBIC)\n",
    "        if self.transform:\n",
    "            image = self.transform(image)\n",
    "\n",
    "        message = torch.randint(0,2,(30,)).float()\n",
    "\n",
    "        return image, message"
   ]
  },
  {
   "cell_type": "code",
   "execution_count": 95,
   "metadata": {},
   "outputs": [],
   "source": [
    "def get_data_loaders(dataset:Dataset,train:int=1000,val:int=100,test:int=100,batch_size:int=8) -> Tuple[DataLoader, DataLoader, DataLoader]:\n",
    "       \n",
    "    total_size = len(dataset)\n",
    "    train_size = train\n",
    "    val_size = val\n",
    "    test_size = test\n",
    "    \n",
    "    assert train_size + val_size + test_size <= total_size, \"The total size of splits exceeds the dataset size\"\n",
    "    \n",
    "    indices = list(range(total_size))\n",
    "    split_indices = {\n",
    "        'train': indices[:train_size],\n",
    "        'val': indices[train_size:train_size + val_size],\n",
    "        'test': indices[train_size + val_size:train_size + val_size + test_size]\n",
    "    }\n",
    "    \n",
    "    train_dataset = Subset(dataset, split_indices['train'])\n",
    "    val_dataset = Subset(dataset, split_indices['val'])\n",
    "    test_dataset = Subset(dataset, split_indices['test'])\n",
    "    \n",
    "    train_loader = DataLoader(train_dataset, batch_size=batch_size, shuffle=True)\n",
    "    val_loader = DataLoader(val_dataset, batch_size=batch_size, shuffle=False)\n",
    "    test_loader = DataLoader(test_dataset, batch_size=batch_size, shuffle=False)\n",
    "    \n",
    "    return train_loader, val_loader, test_loader"
   ]
  },
  {
   "cell_type": "code",
   "execution_count": 96,
   "metadata": {},
   "outputs": [],
   "source": [
    "img_dir = './imgs'\n",
    "msg_length = 30\n",
    "transform = transforms.Compose([\n",
    "    transforms.ToTensor(),\n",
    "    transforms.Normalize(mean=[0.485, 0.456, 0.406], std=[0.229, 0.224, 0.225])\n",
    "])\n",
    "dataset = ImageMessageDataset(img_dir,msg_length,transform)\n",
    "trainloader,valoader,testloader = get_data_loaders(dataset)"
   ]
  },
  {
   "cell_type": "code",
   "execution_count": 100,
   "metadata": {},
   "outputs": [
    {
     "name": "stdout",
     "output_type": "stream",
     "text": [
      "torch.Size([8, 30])\n",
      "torch.Size([8, 30])\n",
      "torch.Size([8, 30])\n",
      "torch.Size([8, 30])\n",
      "torch.Size([8, 30])\n",
      "torch.Size([8, 30])\n",
      "torch.Size([8, 30])\n",
      "torch.Size([8, 30])\n",
      "torch.Size([8, 30])\n",
      "torch.Size([8, 30])\n",
      "torch.Size([8, 30])\n",
      "torch.Size([8, 30])\n",
      "torch.Size([4, 30])\n"
     ]
    }
   ],
   "source": [
    "for img,msg in trainloader:\n",
    "    print(msg.shape)"
   ]
  },
  {
   "cell_type": "code",
   "execution_count": null,
   "metadata": {},
   "outputs": [],
   "source": []
  }
 ],
 "metadata": {
  "kernelspec": {
   "display_name": "signature",
   "language": "python",
   "name": "python3"
  },
  "language_info": {
   "codemirror_mode": {
    "name": "ipython",
    "version": 3
   },
   "file_extension": ".py",
   "mimetype": "text/x-python",
   "name": "python",
   "nbconvert_exporter": "python",
   "pygments_lexer": "ipython3",
   "version": "3.10.14"
  }
 },
 "nbformat": 4,
 "nbformat_minor": 2
}
